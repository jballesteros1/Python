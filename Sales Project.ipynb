{
 "cells": [
  {
   "cell_type": "markdown",
   "metadata": {},
   "source": [
    "# Sales Project\n",
    "\n",
    "Data Set from: https://www.kaggle.com/jr2ngb/superstore-data"
   ]
  },
  {
   "cell_type": "code",
   "execution_count": 1,
   "metadata": {},
   "outputs": [],
   "source": [
    "%matplotlib inline\n",
    "import numpy as np\n",
    "import pandas as pd\n",
    "import matplotlib.pyplot as plt\n",
    "import seaborn as sns\n",
    "import scipy.stats as stats\n",
    "import math \n",
    "from sklearn.linear_model import LinearRegression\n",
    "from scipy import stats\n",
    "from sklearn import metrics\n",
    "import statsmodels.api as sm\n",
    "from statsmodels.api import OLS\n",
    "from scipy.stats import ttest_1samp"
   ]
  },
  {
   "cell_type": "markdown",
   "metadata": {},
   "source": [
    "#### Get rid of the spaces in the column names ####"
   ]
  },
  {
   "cell_type": "code",
   "execution_count": 2,
   "metadata": {},
   "outputs": [],
   "source": [
    "import csv, re\n",
    "path = ('C:\\ProjectFiles\\superstore_dataset2011-2015.csv')\n",
    "file = open(path,newline='')\n",
    "d_reader = csv.DictReader(file)\n",
    "reader = csv.reader(file)\n",
    "\n",
    "header = d_reader.fieldnames\n",
    "h = header\n",
    "\n",
    "def snake_case(h):\n",
    "    return re.sub(r'\\s','_',h).strip('_').lower()\n",
    "               \n",
    "new_header = [snake_case(item) for item in h]\n",
    "\n",
    "\n",
    "new_path = ('C:\\ProjectFiles\\sales.csv')\n",
    "with open(new_path,'w',newline='') as new_file:\n",
    "    output_writer = csv.writer(new_file,delimiter=',')\n",
    "    output_writer.writerow(new_header)\n",
    "    for line in reader:\n",
    "        output_writer.writerow(line)\n",
    "new_file.close()\n",
    "file.close()"
   ]
  },
  {
   "cell_type": "code",
   "execution_count": 3,
   "metadata": {},
   "outputs": [
    {
     "data": {
      "text/plain": [
       "['row_id',\n",
       " 'order_id',\n",
       " 'order_date',\n",
       " 'ship_date',\n",
       " 'ship_mode',\n",
       " 'customer_id',\n",
       " 'customer_name',\n",
       " 'segment',\n",
       " 'city',\n",
       " 'state',\n",
       " 'country',\n",
       " 'postal_code',\n",
       " 'market',\n",
       " 'region',\n",
       " 'product_id',\n",
       " 'category',\n",
       " 'sub-category',\n",
       " 'product_name',\n",
       " 'sales',\n",
       " 'quantity',\n",
       " 'discount',\n",
       " 'profit',\n",
       " 'shipping_cost',\n",
       " 'order_priority']"
      ]
     },
     "execution_count": 3,
     "metadata": {},
     "output_type": "execute_result"
    }
   ],
   "source": [
    "new_header"
   ]
  },
  {
   "cell_type": "code",
   "execution_count": 4,
   "metadata": {},
   "outputs": [
    {
     "name": "stdout",
     "output_type": "stream",
     "text": [
      "(6026, 24)\n"
     ]
    }
   ],
   "source": [
    "us_data = pd.read_csv(r'C:\\ProjectFiles\\sales_us.csv')    # can't create dataframe for file & new_file bc contains foreign letters\n",
    "print(us_data.shape)   # produced in sql "
   ]
  },
  {
   "cell_type": "markdown",
   "metadata": {},
   "source": [
    "### Create dataframe for specific year to analyze ###"
   ]
  },
  {
   "cell_type": "code",
   "execution_count": 5,
   "metadata": {},
   "outputs": [],
   "source": [
    "data = pd.read_csv(r'C:\\ProjectFiles\\sales\\sales_2019.csv')    # produced in sql, 2019"
   ]
  },
  {
   "cell_type": "code",
   "execution_count": 6,
   "metadata": {},
   "outputs": [
    {
     "name": "stdout",
     "output_type": "stream",
     "text": [
      "(2001, 16)\n",
      "COGS column was built in sql using algebra since it was not in the original data set.\n"
     ]
    },
    {
     "data": {
      "text/html": [
       "<div>\n",
       "<style scoped>\n",
       "    .dataframe tbody tr th:only-of-type {\n",
       "        vertical-align: middle;\n",
       "    }\n",
       "\n",
       "    .dataframe tbody tr th {\n",
       "        vertical-align: top;\n",
       "    }\n",
       "\n",
       "    .dataframe thead th {\n",
       "        text-align: right;\n",
       "    }\n",
       "</style>\n",
       "<table border=\"1\" class=\"dataframe\">\n",
       "  <thead>\n",
       "    <tr style=\"text-align: right;\">\n",
       "      <th></th>\n",
       "      <th>order_id</th>\n",
       "      <th>order_date</th>\n",
       "      <th>ship_date</th>\n",
       "      <th>ship_mode</th>\n",
       "      <th>customer_id</th>\n",
       "      <th>customer_name</th>\n",
       "      <th>city</th>\n",
       "      <th>state</th>\n",
       "      <th>category_id</th>\n",
       "      <th>sub_category</th>\n",
       "      <th>item_price</th>\n",
       "      <th>quantity</th>\n",
       "      <th>discount</th>\n",
       "      <th>sales</th>\n",
       "      <th>cogs</th>\n",
       "      <th>profit</th>\n",
       "    </tr>\n",
       "  </thead>\n",
       "  <tbody>\n",
       "    <tr>\n",
       "      <th>1996</th>\n",
       "      <td>CA-2014-117933</td>\n",
       "      <td>2019-12-30</td>\n",
       "      <td>2019-12-30</td>\n",
       "      <td>Standard Class</td>\n",
       "      <td>RF-19840</td>\n",
       "      <td>Roy Franzцsisch</td>\n",
       "      <td>New York City</td>\n",
       "      <td>New York</td>\n",
       "      <td>OFF-AP-100</td>\n",
       "      <td>Appliances</td>\n",
       "      <td>11.97</td>\n",
       "      <td>3</td>\n",
       "      <td>0.0</td>\n",
       "      <td>35.910</td>\n",
       "      <td>26.21</td>\n",
       "      <td>9.6957</td>\n",
       "    </tr>\n",
       "    <tr>\n",
       "      <th>1997</th>\n",
       "      <td>US-2014-147669</td>\n",
       "      <td>2019-12-31</td>\n",
       "      <td>2019-12-31</td>\n",
       "      <td>Standard Class</td>\n",
       "      <td>SV-20935</td>\n",
       "      <td>Susan Vittorini</td>\n",
       "      <td>Fairfield</td>\n",
       "      <td>Ohio</td>\n",
       "      <td>OFF-FA-100</td>\n",
       "      <td>Fasteners</td>\n",
       "      <td>3.78</td>\n",
       "      <td>13</td>\n",
       "      <td>0.2</td>\n",
       "      <td>39.312</td>\n",
       "      <td>26.54</td>\n",
       "      <td>12.7764</td>\n",
       "    </tr>\n",
       "    <tr>\n",
       "      <th>1998</th>\n",
       "      <td>CA-2014-163671</td>\n",
       "      <td>2019-12-31</td>\n",
       "      <td>2019-12-31</td>\n",
       "      <td>Standard Class</td>\n",
       "      <td>DP-13105</td>\n",
       "      <td>Dave Poirier</td>\n",
       "      <td>Meridian</td>\n",
       "      <td>Idaho</td>\n",
       "      <td>OFF-BI-100</td>\n",
       "      <td>Binders</td>\n",
       "      <td>8.88</td>\n",
       "      <td>3</td>\n",
       "      <td>0.2</td>\n",
       "      <td>21.312</td>\n",
       "      <td>13.32</td>\n",
       "      <td>7.9920</td>\n",
       "    </tr>\n",
       "    <tr>\n",
       "      <th>1999</th>\n",
       "      <td>US-2014-147669</td>\n",
       "      <td>2019-12-31</td>\n",
       "      <td>2019-12-31</td>\n",
       "      <td>Standard Class</td>\n",
       "      <td>SV-20935</td>\n",
       "      <td>Susan Vittorini</td>\n",
       "      <td>Fairfield</td>\n",
       "      <td>Ohio</td>\n",
       "      <td>OFF-BI-100</td>\n",
       "      <td>Binders</td>\n",
       "      <td>43.41</td>\n",
       "      <td>1</td>\n",
       "      <td>0.7</td>\n",
       "      <td>13.023</td>\n",
       "      <td>23.44</td>\n",
       "      <td>-10.4184</td>\n",
       "    </tr>\n",
       "    <tr>\n",
       "      <th>2000</th>\n",
       "      <td>CA-2014-112487</td>\n",
       "      <td>2019-12-31</td>\n",
       "      <td>2019-12-31</td>\n",
       "      <td>Standard Class</td>\n",
       "      <td>TC-21535</td>\n",
       "      <td>Tracy Collins</td>\n",
       "      <td>Columbus</td>\n",
       "      <td>Ohio</td>\n",
       "      <td>OFF-BI-100</td>\n",
       "      <td>Binders</td>\n",
       "      <td>5.22</td>\n",
       "      <td>2</td>\n",
       "      <td>0.7</td>\n",
       "      <td>3.132</td>\n",
       "      <td>5.74</td>\n",
       "      <td>-2.6100</td>\n",
       "    </tr>\n",
       "  </tbody>\n",
       "</table>\n",
       "</div>"
      ],
      "text/plain": [
       "            order_id  order_date   ship_date       ship_mode customer_id  \\\n",
       "1996  CA-2014-117933  2019-12-30  2019-12-30  Standard Class    RF-19840   \n",
       "1997  US-2014-147669  2019-12-31  2019-12-31  Standard Class    SV-20935   \n",
       "1998  CA-2014-163671  2019-12-31  2019-12-31  Standard Class    DP-13105   \n",
       "1999  US-2014-147669  2019-12-31  2019-12-31  Standard Class    SV-20935   \n",
       "2000  CA-2014-112487  2019-12-31  2019-12-31  Standard Class    TC-21535   \n",
       "\n",
       "        customer_name           city     state category_id sub_category  \\\n",
       "1996  Roy Franzцsisch  New York City  New York  OFF-AP-100   Appliances   \n",
       "1997  Susan Vittorini      Fairfield      Ohio  OFF-FA-100    Fasteners   \n",
       "1998     Dave Poirier       Meridian     Idaho  OFF-BI-100      Binders   \n",
       "1999  Susan Vittorini      Fairfield      Ohio  OFF-BI-100      Binders   \n",
       "2000    Tracy Collins       Columbus      Ohio  OFF-BI-100      Binders   \n",
       "\n",
       "      item_price  quantity  discount   sales   cogs   profit  \n",
       "1996       11.97         3       0.0  35.910  26.21   9.6957  \n",
       "1997        3.78        13       0.2  39.312  26.54  12.7764  \n",
       "1998        8.88         3       0.2  21.312  13.32   7.9920  \n",
       "1999       43.41         1       0.7  13.023  23.44 -10.4184  \n",
       "2000        5.22         2       0.7   3.132   5.74  -2.6100  "
      ]
     },
     "execution_count": 6,
     "metadata": {},
     "output_type": "execute_result"
    }
   ],
   "source": [
    "print(data.shape)\n",
    "print('COGS column was built in sql using algebra since it was not in the original data set.')\n",
    "data.tail()"
   ]
  },
  {
   "cell_type": "code",
   "execution_count": 7,
   "metadata": {},
   "outputs": [
    {
     "name": "stdout",
     "output_type": "stream",
     "text": [
      "<class 'pandas.core.frame.DataFrame'>\n",
      "RangeIndex: 2001 entries, 0 to 2000\n",
      "Data columns (total 16 columns):\n",
      " #   Column         Non-Null Count  Dtype  \n",
      "---  ------         --------------  -----  \n",
      " 0   order_id       2001 non-null   object \n",
      " 1   order_date     2001 non-null   object \n",
      " 2   ship_date      2001 non-null   object \n",
      " 3   ship_mode      2001 non-null   object \n",
      " 4   customer_id    2001 non-null   object \n",
      " 5   customer_name  2001 non-null   object \n",
      " 6   city           2001 non-null   object \n",
      " 7   state          2001 non-null   object \n",
      " 8   category_id    2001 non-null   object \n",
      " 9   sub_category   2001 non-null   object \n",
      " 10  item_price     2001 non-null   float64\n",
      " 11  quantity       2001 non-null   int64  \n",
      " 12  discount       2001 non-null   float64\n",
      " 13  sales          2001 non-null   float64\n",
      " 14  cogs           2001 non-null   float64\n",
      " 15  profit         2001 non-null   float64\n",
      "dtypes: float64(5), int64(1), object(10)\n",
      "memory usage: 250.2+ KB\n"
     ]
    }
   ],
   "source": [
    "data.info()"
   ]
  },
  {
   "cell_type": "code",
   "execution_count": 8,
   "metadata": {},
   "outputs": [
    {
     "data": {
      "text/plain": [
       "Binders       495\n",
       "Paper         461\n",
       "Storage       286\n",
       "Art           282\n",
       "Appliances    168\n",
       "Labels        116\n",
       "Envelopes      72\n",
       "Supplies       61\n",
       "Fasteners      60\n",
       "Name: sub_category, dtype: int64"
      ]
     },
     "execution_count": 8,
     "metadata": {},
     "output_type": "execute_result"
    }
   ],
   "source": [
    "data.sub_category.value_counts()"
   ]
  },
  {
   "cell_type": "code",
   "execution_count": 9,
   "metadata": {},
   "outputs": [
    {
     "name": "stdout",
     "output_type": "stream",
     "text": [
      "sub_category\n",
      "Appliances     659\n",
      "Art           1108\n",
      "Binders       2049\n",
      "Envelopes      244\n",
      "Fasteners      234\n",
      "Labels         451\n",
      "Paper         1719\n",
      "Storage       1011\n",
      "Supplies       191\n",
      "Name: quantity, dtype: int64\n",
      "sub_category\n",
      "Appliances    42852.702\n",
      "Art            8888.842\n",
      "Binders       72799.549\n",
      "Envelopes      3406.366\n",
      "Fasteners       814.980\n",
      "Labels         3817.440\n",
      "Paper         27612.460\n",
      "Storage       67935.666\n",
      "Supplies      16064.154\n",
      "Name: sales, dtype: float64\n",
      "sub_category\n",
      "Appliances    46.694567\n",
      "Art            7.900504\n",
      "Binders       15.704727\n",
      "Envelopes     20.169181\n",
      "Fasteners      4.776223\n",
      "Labels        14.852628\n",
      "Paper         25.983847\n",
      "Storage       24.964423\n",
      "Supplies     -15.525728\n",
      "Name: profit, dtype: float64\n"
     ]
    }
   ],
   "source": [
    "grp = data.groupby('sub_category')\n",
    "x = grp['quantity'].agg(np.sum)    # sum of the units by category\n",
    "y = grp['sales'].agg(np.sum)    # sum of category revenue \n",
    "z = grp['profit'].agg(np.mean)    # average profit by category\n",
    "print(x)\n",
    "print(y)\n",
    "print(z)"
   ]
  },
  {
   "cell_type": "markdown",
   "metadata": {},
   "source": [
    "## Exploratory Analysis ##"
   ]
  },
  {
   "cell_type": "code",
   "execution_count": 10,
   "metadata": {},
   "outputs": [
    {
     "data": {
      "text/plain": [
       "Text(0, 0.5, 'Frequency')"
      ]
     },
     "execution_count": 10,
     "metadata": {},
     "output_type": "execute_result"
    },
    {
     "data": {
      "image/png": "[encoded data removed]",
      "text/plain": [
       "<Figure size 720x504 with 1 Axes>"
      ]
     },
     "metadata": {
      "needs_background": "light"
     },
     "output_type": "display_data"
    }
   ],
   "source": [
    "data.profit.plot(kind='hist',figsize=(10,7),range=[-100,100])\n",
    "plt.xticks(np.arange(-100,100,10))\n",
    "plt.title('Ditribution of Profit',size=17)\n",
    "plt.xlabel('Profit',size=13)\n",
    "plt.ylabel('Frequency',size=13)"
   ]
  },
  {
   "cell_type": "code",
   "execution_count": 11,
   "metadata": {},
   "outputs": [
    {
     "data": {
      "text/plain": [
       "(array([0, 1, 2, 3, 4, 5, 6, 7, 8]),\n",
       " [Text(0, 0, 'Paper'),\n",
       "  Text(1, 0, 'Art'),\n",
       "  Text(2, 0, 'Appliances'),\n",
       "  Text(3, 0, 'Labels'),\n",
       "  Text(4, 0, 'Envelopes'),\n",
       "  Text(5, 0, 'Supplies'),\n",
       "  Text(6, 0, 'Binders'),\n",
       "  Text(7, 0, 'Storage'),\n",
       "  Text(8, 0, 'Fasteners')])"
      ]
     },
     "execution_count": 11,
     "metadata": {},
     "output_type": "execute_result"
    },
    {
     "data": {
      "image/png": "[encoded data removed]",
      "text/plain": [
       "<Figure size 432x288 with 1 Axes>"
      ]
     },
     "metadata": {
      "needs_background": "light"
     },
     "output_type": "display_data"
    }
   ],
   "source": [
    "sns.boxplot(x= 'sub_category',y='profit',data=data)\n",
    "plt.xticks(rotation=30)"
   ]
  },
  {
   "cell_type": "markdown",
   "metadata": {},
   "source": [
    "*When was profit over $2000?*"
   ]
  },
  {
   "cell_type": "code",
   "execution_count": 12,
   "metadata": {},
   "outputs": [
    {
     "data": {
      "text/html": [
       "<div>\n",
       "<style scoped>\n",
       "    .dataframe tbody tr th:only-of-type {\n",
       "        vertical-align: middle;\n",
       "    }\n",
       "\n",
       "    .dataframe tbody tr th {\n",
       "        vertical-align: top;\n",
       "    }\n",
       "\n",
       "    .dataframe thead th {\n",
       "        text-align: right;\n",
       "    }\n",
       "</style>\n",
       "<table border=\"1\" class=\"dataframe\">\n",
       "  <thead>\n",
       "    <tr style=\"text-align: right;\">\n",
       "      <th></th>\n",
       "      <th>order_id</th>\n",
       "      <th>order_date</th>\n",
       "      <th>ship_date</th>\n",
       "      <th>ship_mode</th>\n",
       "      <th>customer_id</th>\n",
       "      <th>customer_name</th>\n",
       "      <th>city</th>\n",
       "      <th>state</th>\n",
       "      <th>category_id</th>\n",
       "      <th>sub_category</th>\n",
       "      <th>item_price</th>\n",
       "      <th>quantity</th>\n",
       "      <th>discount</th>\n",
       "      <th>sales</th>\n",
       "      <th>cogs</th>\n",
       "      <th>profit</th>\n",
       "    </tr>\n",
       "  </thead>\n",
       "  <tbody>\n",
       "    <tr>\n",
       "      <th>60</th>\n",
       "      <td>CA-2014-138289</td>\n",
       "      <td>2019-01-19</td>\n",
       "      <td>2019-01-19</td>\n",
       "      <td>Second Class</td>\n",
       "      <td>AR-10540</td>\n",
       "      <td>Andy Reiter</td>\n",
       "      <td>Jackson</td>\n",
       "      <td>Michigan</td>\n",
       "      <td>OFF-BI-100</td>\n",
       "      <td>Binders</td>\n",
       "      <td>1360.99</td>\n",
       "      <td>4</td>\n",
       "      <td>0.0</td>\n",
       "      <td>5443.96</td>\n",
       "      <td>2939.74</td>\n",
       "      <td>2504.2216</td>\n",
       "    </tr>\n",
       "  </tbody>\n",
       "</table>\n",
       "</div>"
      ],
      "text/plain": [
       "          order_id  order_date   ship_date     ship_mode customer_id  \\\n",
       "60  CA-2014-138289  2019-01-19  2019-01-19  Second Class    AR-10540   \n",
       "\n",
       "   customer_name     city     state category_id sub_category  item_price  \\\n",
       "60   Andy Reiter  Jackson  Michigan  OFF-BI-100      Binders     1360.99   \n",
       "\n",
       "    quantity  discount    sales     cogs     profit  \n",
       "60         4       0.0  5443.96  2939.74  2504.2216  "
      ]
     },
     "execution_count": 12,
     "metadata": {},
     "output_type": "execute_result"
    }
   ],
   "source": [
    "data[data.profit >2000]"
   ]
  },
  {
   "cell_type": "markdown",
   "metadata": {},
   "source": [
    "**Interesting. I Will conduct further analysis later on to see when sales were plummeting/rising for each different sub-category.**"
   ]
  },
  {
   "cell_type": "code",
   "execution_count": 13,
   "metadata": {},
   "outputs": [
    {
     "data": {
      "text/plain": [
       "Index(['order_id', 'order_date', 'ship_date', 'ship_mode', 'customer_id',\n",
       "       'customer_name', 'city', 'state', 'category_id', 'sub_category',\n",
       "       'item_price', 'quantity', 'discount', 'sales', 'cogs', 'profit'],\n",
       "      dtype='object')"
      ]
     },
     "execution_count": 13,
     "metadata": {},
     "output_type": "execute_result"
    }
   ],
   "source": [
    "data.columns"
   ]
  },
  {
   "cell_type": "code",
   "execution_count": 14,
   "metadata": {},
   "outputs": [],
   "source": [
    "num = data[['item_price', 'quantity', 'discount','cogs','sales', 'profit']]\n",
    "df = pd.DataFrame(num)"
   ]
  },
  {
   "cell_type": "code",
   "execution_count": 15,
   "metadata": {},
   "outputs": [
    {
     "data": {
      "text/html": [
       "<div>\n",
       "<style scoped>\n",
       "    .dataframe tbody tr th:only-of-type {\n",
       "        vertical-align: middle;\n",
       "    }\n",
       "\n",
       "    .dataframe tbody tr th {\n",
       "        vertical-align: top;\n",
       "    }\n",
       "\n",
       "    .dataframe thead th {\n",
       "        text-align: right;\n",
       "    }\n",
       "</style>\n",
       "<table border=\"1\" class=\"dataframe\">\n",
       "  <thead>\n",
       "    <tr style=\"text-align: right;\">\n",
       "      <th></th>\n",
       "      <th>item_price</th>\n",
       "      <th>quantity</th>\n",
       "      <th>discount</th>\n",
       "      <th>cogs</th>\n",
       "      <th>sales</th>\n",
       "      <th>profit</th>\n",
       "    </tr>\n",
       "  </thead>\n",
       "  <tbody>\n",
       "    <tr>\n",
       "      <th>count</th>\n",
       "      <td>2001.000000</td>\n",
       "      <td>2001.000000</td>\n",
       "      <td>2001.000000</td>\n",
       "      <td>2001.000000</td>\n",
       "      <td>2001.000000</td>\n",
       "      <td>2001.000000</td>\n",
       "    </tr>\n",
       "    <tr>\n",
       "      <th>mean</th>\n",
       "      <td>40.181374</td>\n",
       "      <td>3.831084</td>\n",
       "      <td>0.159870</td>\n",
       "      <td>102.305522</td>\n",
       "      <td>122.035062</td>\n",
       "      <td>19.729854</td>\n",
       "    </tr>\n",
       "    <tr>\n",
       "      <th>std</th>\n",
       "      <td>114.864547</td>\n",
       "      <td>2.192819</td>\n",
       "      <td>0.231136</td>\n",
       "      <td>324.831029</td>\n",
       "      <td>353.582923</td>\n",
       "      <td>155.457274</td>\n",
       "    </tr>\n",
       "    <tr>\n",
       "      <th>min</th>\n",
       "      <td>1.140000</td>\n",
       "      <td>1.000000</td>\n",
       "      <td>0.000000</td>\n",
       "      <td>0.900000</td>\n",
       "      <td>0.444000</td>\n",
       "      <td>-2929.484500</td>\n",
       "    </tr>\n",
       "    <tr>\n",
       "      <th>25%</th>\n",
       "      <td>5.280000</td>\n",
       "      <td>2.000000</td>\n",
       "      <td>0.000000</td>\n",
       "      <td>8.660000</td>\n",
       "      <td>11.760000</td>\n",
       "      <td>2.085000</td>\n",
       "    </tr>\n",
       "    <tr>\n",
       "      <th>50%</th>\n",
       "      <td>9.310000</td>\n",
       "      <td>3.000000</td>\n",
       "      <td>0.000000</td>\n",
       "      <td>19.730000</td>\n",
       "      <td>26.720000</td>\n",
       "      <td>6.703200</td>\n",
       "    </tr>\n",
       "    <tr>\n",
       "      <th>75%</th>\n",
       "      <td>30.980000</td>\n",
       "      <td>5.000000</td>\n",
       "      <td>0.200000</td>\n",
       "      <td>64.280000</td>\n",
       "      <td>82.400000</td>\n",
       "      <td>20.370000</td>\n",
       "    </tr>\n",
       "    <tr>\n",
       "      <th>max</th>\n",
       "      <td>1889.990000</td>\n",
       "      <td>14.000000</td>\n",
       "      <td>0.800000</td>\n",
       "      <td>5713.080000</td>\n",
       "      <td>5443.960000</td>\n",
       "      <td>2504.221600</td>\n",
       "    </tr>\n",
       "  </tbody>\n",
       "</table>\n",
       "</div>"
      ],
      "text/plain": [
       "        item_price     quantity     discount         cogs        sales  \\\n",
       "count  2001.000000  2001.000000  2001.000000  2001.000000  2001.000000   \n",
       "mean     40.181374     3.831084     0.159870   102.305522   122.035062   \n",
       "std     114.864547     2.192819     0.231136   324.831029   353.582923   \n",
       "min       1.140000     1.000000     0.000000     0.900000     0.444000   \n",
       "25%       5.280000     2.000000     0.000000     8.660000    11.760000   \n",
       "50%       9.310000     3.000000     0.000000    19.730000    26.720000   \n",
       "75%      30.980000     5.000000     0.200000    64.280000    82.400000   \n",
       "max    1889.990000    14.000000     0.800000  5713.080000  5443.960000   \n",
       "\n",
       "            profit  \n",
       "count  2001.000000  \n",
       "mean     19.729854  \n",
       "std     155.457274  \n",
       "min   -2929.484500  \n",
       "25%       2.085000  \n",
       "50%       6.703200  \n",
       "75%      20.370000  \n",
       "max    2504.221600  "
      ]
     },
     "execution_count": 15,
     "metadata": {},
     "output_type": "execute_result"
    }
   ],
   "source": [
    "num.describe()"
   ]
  },
  {
   "cell_type": "code",
   "execution_count": 16,
   "metadata": {},
   "outputs": [
    {
     "data": {
      "text/plain": [
       "<AxesSubplot:>"
      ]
     },
     "execution_count": 16,
     "metadata": {},
     "output_type": "execute_result"
    },
    {
     "data": {
      "image/png": "[encoded data removed]",
      "text/plain": [
       "<Figure size 432x288 with 2 Axes>"
      ]
     },
     "metadata": {
      "needs_background": "light"
     },
     "output_type": "display_data"
    }
   ],
   "source": [
    "# ecploratory analysis\n",
    "sns.heatmap(df.corr(),annot=True,cmap='Blues')"
   ]
  },
  {
   "cell_type": "markdown",
   "metadata": {},
   "source": [
    "*Will need to remove highly correlated ind variables if building a regression model*"
   ]
  },
  {
   "cell_type": "markdown",
   "metadata": {},
   "source": [
    "**Sales and Profit seem to be fairly correlated. I'll demonstrate if any causal relationship between those variables exist by creating a linear regression model. I will be holdong the variables quantity and discount constant.**"
   ]
  },
  {
   "cell_type": "markdown",
   "metadata": {},
   "source": [
    "## Linear Regression Model Using OLS Method ##"
   ]
  },
  {
   "cell_type": "code",
   "execution_count": 17,
   "metadata": {},
   "outputs": [
    {
     "data": {
      "text/plain": [
       "[(0, 'quantity'), (1, 'discount'), (2, 'sales')]"
      ]
     },
     "execution_count": 17,
     "metadata": {},
     "output_type": "execute_result"
    }
   ],
   "source": [
    "exp = data[['quantity', 'discount','sales']]    # data.loc[:['quantity', 'discount','sales']]\n",
    "outcome =  data['profit']\n",
    "a = list(enumerate(exp))\n",
    "a"
   ]
  },
  {
   "cell_type": "code",
   "execution_count": 18,
   "metadata": {},
   "outputs": [
    {
     "name": "stdout",
     "output_type": "stream",
     "text": [
      "      quantity\n",
      "0            6\n",
      "1            3\n",
      "2            2\n",
      "3            7\n",
      "4            3\n",
      "...        ...\n",
      "1996         3\n",
      "1997        13\n",
      "1998         3\n",
      "1999         1\n",
      "2000         2\n",
      "\n",
      "[2001 rows x 1 columns]\n",
      "      discount\n",
      "0          0.2\n",
      "1          0.0\n",
      "2          0.0\n",
      "3          0.0\n",
      "4          0.2\n",
      "...        ...\n",
      "1996       0.0\n",
      "1997       0.2\n",
      "1998       0.2\n",
      "1999       0.7\n",
      "2000       0.7\n",
      "\n",
      "[2001 rows x 1 columns]\n",
      "       sales\n",
      "0     25.344\n",
      "1     53.970\n",
      "2      7.900\n",
      "3     20.160\n",
      "4     27.792\n",
      "...      ...\n",
      "1996  35.910\n",
      "1997  39.312\n",
      "1998  21.312\n",
      "1999  13.023\n",
      "2000   3.132\n",
      "\n",
      "[2001 rows x 1 columns]\n"
     ]
    }
   ],
   "source": [
    "for i in enumerate(exp):\n",
    "    print(data[[i[1]]])"
   ]
  },
  {
   "cell_type": "code",
   "execution_count": 19,
   "metadata": {},
   "outputs": [],
   "source": [
    "model = LinearRegression()"
   ]
  },
  {
   "cell_type": "code",
   "execution_count": 40,
   "metadata": {},
   "outputs": [
    {
     "name": "stdout",
     "output_type": "stream",
     "text": [
      "May want to remove extreme outliers if not performing multivariate regression\n"
     ]
    },
    {
     "data": {
      "image/png": "[encoded data removed]",
      "text/plain": [
       "<Figure size 1080x2520 with 3 Axes>"
      ]
     },
     "metadata": {
      "needs_background": "light"
     },
     "output_type": "display_data"
    }
   ],
   "source": [
    "plt.figure(figsize=(15,35))\n",
    "\n",
    "for i in enumerate(exp):\n",
    "    model.fit(data[[i[1]]],outcome)\n",
    "    plt.subplot(2,2,i[0]+1)\n",
    "    plt.ylim(0,2000)\n",
    "    b_pred = model.predict(data[[i[1]]])\n",
    "    sns.regplot(x=data[i[1]],y=b_pred,label='Linear Regression',color='red')\n",
    "    sns.scatterplot(data=data,x=data[i[1]],y=outcome,color='blue',label=i[1])\n",
    "    plt.legend(bbox_to_anchor=(1,1),loc=1)\n",
    "\n",
    "print('May want to remove extreme outliers if not performing multivariate linear regression')"
   ]
  },
  {
   "cell_type": "code",
   "execution_count": 24,
   "metadata": {},
   "outputs": [
    {
     "data": {
      "text/plain": [
       "pandas.core.frame.DataFrame"
      ]
     },
     "execution_count": 24,
     "metadata": {},
     "output_type": "execute_result"
    }
   ],
   "source": [
    "type(exp)"
   ]
  },
  {
   "cell_type": "code",
   "execution_count": 25,
   "metadata": {},
   "outputs": [
    {
     "name": "stdout",
     "output_type": "stream",
     "text": [
      "<class 'pandas.core.frame.DataFrame'>\n",
      "<class 'pandas.core.frame.DataFrame'>\n"
     ]
    }
   ],
   "source": [
    "df = pd.DataFrame(exp)\n",
    "target = pd.DataFrame(outcome)\n",
    "print(type(df))\n",
    "print(type(target))"
   ]
  },
  {
   "cell_type": "code",
   "execution_count": 36,
   "metadata": {},
   "outputs": [
    {
     "name": "stdout",
     "output_type": "stream",
     "text": [
      "[ 0.62937086 30.75119118 21.73835087 30.46785508 -2.97494466]\n"
     ]
    }
   ],
   "source": [
    "x = exp    # x = df\n",
    "y = outcome    # y = target\n",
    "model.fit(x,y)\n",
    "pred = model.predict(x)\n",
    "print(pred[:5])"
   ]
  },
  {
   "cell_type": "code",
   "execution_count": 27,
   "metadata": {},
   "outputs": [
    {
     "name": "stdout",
     "output_type": "stream",
     "text": [
      "R^2: 0.20518201053672136\n",
      "intercept: 17.747403172233437\n",
      "coefficients: [   1.33738749 -146.82386303    0.16660414]\n"
     ]
    }
   ],
   "source": [
    "print('R^2:',model.score(x,y))    #for R squared\n",
    "print('intercept:',model.intercept_)  #for y-intercept\n",
    "print('coefficients:',model.coef_)   #for coefficients"
   ]
  },
  {
   "cell_type": "markdown",
   "metadata": {},
   "source": [
    "*In practice, you would not use the entire dataset, \n",
    "but you would instead split your data into a training set and a test set.*"
   ]
  },
  {
   "cell_type": "code",
   "execution_count": 33,
   "metadata": {},
   "outputs": [
    {
     "name": "stdout",
     "output_type": "stream",
     "text": [
      "Standard Error of coef[0]: 6.541831578380402\n",
      "t_value of coef[0]: 2.71291043793996\n",
      "p_value of coef[0]: 0.006726766230994663\n",
      "---------------------------------------------------------------------------\n",
      "Standard Error of coef[1]: 1.4409886852231495\n",
      "t_value of coef[1]: 0.928104085543126\n",
      "p_value of coef[1]: 0.35346574000775566\n",
      "---------------------------------------------------------------------------\n",
      "Standard Error of coef[2]: 13.466787562031632\n",
      "t_value of coef[2]: -10.902664228636134\n",
      "p_value of coef[2]: 0.0\n",
      "---------------------------------------------------------------------------\n",
      "Standard Error of coef[3]: 0.00895097695175299\n",
      "t_value of coef[3]: 18.612956221093288\n",
      "p_value of coef[3]: 0.0\n",
      "---------------------------------------------------------------------------\n"
     ]
    }
   ],
   "source": [
    "m = x.shape[0]      # number of rows of data\n",
    "n = x.shape[1]      # number of explanatory variables\n",
    "x_with_intercept = np.c_[np.ones(x.shape[0]), x]\n",
    "\n",
    "\n",
    "sigma_square_hat = np.linalg.norm(y - model.predict(x)) ** 2 / (m-(n+1))\n",
    "var_pred_coef = sigma_square_hat*np.linalg.pinv(x_with_intercept.T @ x_with_intercept) #returns inv when exists & pseudo-invo when doesn't\n",
    "\n",
    "for i in range(n+1):\n",
    "    standard_error = var_pred_coef[i,i] ** 0.5 \n",
    "    print(f\"Standard Error of coef[{i}]: {standard_error}\")\n",
    "    \n",
    "    t_values = z[i]/standard_error\n",
    "    print(f\"t_value of coef[{i}]: {t_values}\")\n",
    "    \n",
    "    p_values = 2*(1- stats.t.cdf(abs(t_values), df=x.shape[0]-(x.shape[1] + 1)))   # df = degrees of freedom\n",
    "    print(f\"p_value of coef[{i}]: {p_values}\") \n",
    "    print('-'*75)"
   ]
  },
  {
   "cell_type": "code",
   "execution_count": 35,
   "metadata": {},
   "outputs": [
    {
     "data": {
      "text/plain": [
       "Index(['quantity', 'discount', 'sales'], dtype='object')"
      ]
     },
     "execution_count": 35,
     "metadata": {},
     "output_type": "execute_result"
    }
   ],
   "source": [
    "x.columns"
   ]
  },
  {
   "cell_type": "code",
   "execution_count": 30,
   "metadata": {},
   "outputs": [
    {
     "name": "stdout",
     "output_type": "stream",
     "text": [
      "[[17.747403172233437, 17.747403172233437], [17.747403172233437, 1.3373874859770225], [17.747403172233437, -146.82386302720428], [17.747403172233437, 0.16660414213899344]]\n"
     ]
    }
   ],
   "source": [
    "ols_parameters = [[model.intercept_,model.intercept_]]\n",
    "for i in model.coef_:\n",
    "    ad = [model.intercept_,i]\n",
    "    ols_parameters.append(ad)\n",
    "print(ols_parameters)"
   ]
  },
  {
   "cell_type": "code",
   "execution_count": 31,
   "metadata": {},
   "outputs": [
    {
     "data": {
      "text/plain": [
       "[17.747403172233437,\n",
       " 1.3373874859770225,\n",
       " -146.82386302720428,\n",
       " 0.16660414213899344]"
      ]
     },
     "execution_count": 31,
     "metadata": {},
     "output_type": "execute_result"
    }
   ],
   "source": [
    "z=[model.intercept_]\n",
    "ab = model.coef_.tolist()\n",
    "z = z+ab\n",
    "z"
   ]
  },
  {
   "cell_type": "code",
   "execution_count": 32,
   "metadata": {},
   "outputs": [
    {
     "data": {
      "text/html": [
       "<table class=\"simpletable\">\n",
       "<caption>OLS Regression Results</caption>\n",
       "<tr>\n",
       "  <th>Dep. Variable:</th>         <td>profit</td>      <th>  R-squared:         </th> <td>   0.205</td> \n",
       "</tr>\n",
       "<tr>\n",
       "  <th>Model:</th>                   <td>OLS</td>       <th>  Adj. R-squared:    </th> <td>   0.204</td> \n",
       "</tr>\n",
       "<tr>\n",
       "  <th>Method:</th>             <td>Least Squares</td>  <th>  F-statistic:       </th> <td>   171.8</td> \n",
       "</tr>\n",
       "<tr>\n",
       "  <th>Date:</th>             <td>Thu, 22 Apr 2021</td> <th>  Prob (F-statistic):</th> <td>4.23e-99</td> \n",
       "</tr>\n",
       "<tr>\n",
       "  <th>Time:</th>                 <td>20:45:29</td>     <th>  Log-Likelihood:    </th> <td> -12707.</td> \n",
       "</tr>\n",
       "<tr>\n",
       "  <th>No. Observations:</th>      <td>  2001</td>      <th>  AIC:               </th> <td>2.542e+04</td>\n",
       "</tr>\n",
       "<tr>\n",
       "  <th>Df Residuals:</th>          <td>  1997</td>      <th>  BIC:               </th> <td>2.544e+04</td>\n",
       "</tr>\n",
       "<tr>\n",
       "  <th>Df Model:</th>              <td>     3</td>      <th>                     </th>     <td> </td>    \n",
       "</tr>\n",
       "<tr>\n",
       "  <th>Covariance Type:</th>      <td>nonrobust</td>    <th>                     </th>     <td> </td>    \n",
       "</tr>\n",
       "</table>\n",
       "<table class=\"simpletable\">\n",
       "<tr>\n",
       "    <td></td>       <th>coef</th>     <th>std err</th>      <th>t</th>      <th>P>|t|</th>  <th>[0.025</th>    <th>0.975]</th>  \n",
       "</tr>\n",
       "<tr>\n",
       "  <th>const</th> <td>   17.7474</td> <td>    6.542</td> <td>    2.713</td> <td> 0.007</td> <td>    4.918</td> <td>   30.577</td>\n",
       "</tr>\n",
       "<tr>\n",
       "  <th>x1</th>    <td>    1.3374</td> <td>    1.441</td> <td>    0.928</td> <td> 0.353</td> <td>   -1.489</td> <td>    4.163</td>\n",
       "</tr>\n",
       "<tr>\n",
       "  <th>x2</th>    <td> -146.8239</td> <td>   13.467</td> <td>  -10.903</td> <td> 0.000</td> <td> -173.234</td> <td> -120.413</td>\n",
       "</tr>\n",
       "<tr>\n",
       "  <th>x3</th>    <td>    0.1666</td> <td>    0.009</td> <td>   18.613</td> <td> 0.000</td> <td>    0.149</td> <td>    0.184</td>\n",
       "</tr>\n",
       "</table>\n",
       "<table class=\"simpletable\">\n",
       "<tr>\n",
       "  <th>Omnibus:</th>       <td>3319.069</td> <th>  Durbin-Watson:     </th>  <td>   1.986</td>  \n",
       "</tr>\n",
       "<tr>\n",
       "  <th>Prob(Omnibus):</th>  <td> 0.000</td>  <th>  Jarque-Bera (JB):  </th> <td>4253608.004</td>\n",
       "</tr>\n",
       "<tr>\n",
       "  <th>Skew:</th>           <td>-10.543</td> <th>  Prob(JB):          </th>  <td>    0.00</td>  \n",
       "</tr>\n",
       "<tr>\n",
       "  <th>Kurtosis:</th>       <td>227.885</td> <th>  Cond. No.          </th>  <td>1.65e+03</td>  \n",
       "</tr>\n",
       "</table><br/><br/>Notes:<br/>[1] Standard Errors assume that the covariance matrix of the errors is correctly specified.<br/>[2] The condition number is large, 1.65e+03. This might indicate that there are<br/>strong multicollinearity or other numerical problems."
      ],
      "text/plain": [
       "<class 'statsmodels.iolib.summary.Summary'>\n",
       "\"\"\"\n",
       "                            OLS Regression Results                            \n",
       "==============================================================================\n",
       "Dep. Variable:                 profit   R-squared:                       0.205\n",
       "Model:                            OLS   Adj. R-squared:                  0.204\n",
       "Method:                 Least Squares   F-statistic:                     171.8\n",
       "Date:                Thu, 22 Apr 2021   Prob (F-statistic):           4.23e-99\n",
       "Time:                        20:45:29   Log-Likelihood:                -12707.\n",
       "No. Observations:                2001   AIC:                         2.542e+04\n",
       "Df Residuals:                    1997   BIC:                         2.544e+04\n",
       "Df Model:                           3                                         \n",
       "Covariance Type:            nonrobust                                         \n",
       "==============================================================================\n",
       "                 coef    std err          t      P>|t|      [0.025      0.975]\n",
       "------------------------------------------------------------------------------\n",
       "const         17.7474      6.542      2.713      0.007       4.918      30.577\n",
       "x1             1.3374      1.441      0.928      0.353      -1.489       4.163\n",
       "x2          -146.8239     13.467    -10.903      0.000    -173.234    -120.413\n",
       "x3             0.1666      0.009     18.613      0.000       0.149       0.184\n",
       "==============================================================================\n",
       "Omnibus:                     3319.069   Durbin-Watson:                   1.986\n",
       "Prob(Omnibus):                  0.000   Jarque-Bera (JB):          4253608.004\n",
       "Skew:                         -10.543   Prob(JB):                         0.00\n",
       "Kurtosis:                     227.885   Cond. No.                     1.65e+03\n",
       "==============================================================================\n",
       "\n",
       "Notes:\n",
       "[1] Standard Errors assume that the covariance matrix of the errors is correctly specified.\n",
       "[2] The condition number is large, 1.65e+03. This might indicate that there are\n",
       "strong multicollinearity or other numerical problems.\n",
       "\"\"\""
      ]
     },
     "execution_count": 32,
     "metadata": {},
     "output_type": "execute_result"
    }
   ],
   "source": [
    "OLS(y,x_with_intercept).fit().summary()"
   ]
  },
  {
   "cell_type": "markdown",
   "metadata": {},
   "source": [
    "**As we can see, only the coefficient estimates for the explanatory variables discount and sales are statistically significant at the 5% level.Thus, we can be coniident of the patterns that, holding the other factors constants, the higher the sales are the higher the gross profit will be, while the higher the discount the lower gross profit there will be, holding these other factors constant**"
   ]
  }
 ],
 "metadata": {
  "kernelspec": {
   "display_name": "Python 3",
   "language": "python",
   "name": "python3"
  },
  "language_info": {
   "codemirror_mode": {
    "name": "ipython",
    "version": 3
   },
   "file_extension": ".py",
   "mimetype": "text/x-python",
   "name": "python",
   "nbconvert_exporter": "python",
   "pygments_lexer": "ipython3",
   "version": "3.8.5"
  }
 },
 "nbformat": 4,
 "nbformat_minor": 4
}
