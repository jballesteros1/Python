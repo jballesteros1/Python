{
 "cells": [
  {
   "cell_type": "code",
   "execution_count": null,
   "metadata": {},
   "outputs": [],
   "source": [
    "import csv, re\n",
    "path = ('C:/ProjectFiles/inpatient_2014.csv')\n",
    "file = open(path,newline='')\n",
    "d_reader = csv.DictReader(file)\n",
    "reader = csv.reader(file)\n",
    "\n",
    "\n",
    "header = d_reader.fieldnames # the first line is the header\n",
    "h = header\n",
    "\n",
    "def snake_case(h):\n",
    "    return re.sub(r'\\s','_',h).strip('_').lower()\n",
    "\n",
    "new_header = [snake_case(item) for item in h]\n",
    "\n",
    "new_path = ('new_inpatient2014.csv')\n",
    "with open(new_path, 'w',newline='') as new_file:  # doesn't need newline=''\n",
    "\n",
    "    output_writer = csv.writer(new_file, delimiter = ',')  # or writer = / csv_writer =\n",
    "    output_writer.writerow(new_header) \n",
    "    for line in reader:\n",
    "        output_writer.writerow(line)\n",
    "        \n",
    "new_file.close()"
   ]
  },
  {
   "cell_type": "code",
   "execution_count": 4,
   "metadata": {},
   "outputs": [],
   "source": [
    "drg_list =(\"483 - MAJOR JOINT/LIMB REATTACHMENT PROCEDURE OF UPPER EXTREMITIES\"\n",
    "\"191 - CHRONIC OBSTRUCTIVE PULMONARY DISEASE W CC\"\n",
    "\"287 - CIRCULATORY DISORDERS EXCEPT AMI, W CARD CATH W/O MCC\"\n",
    "\"460 - SPINAL FUSION EXCEPT CERVICAL W/O MCC\"\n",
    "\"698 - OTHER KIDNEY & URINARY TRACT DIAGNOSES W MCC\"\n",
    "\"208 - RESPIRATORY SYSTEM DIAGNOSIS W VENTILATOR SUPPORT <=96 HOURS\"\n",
    "\"377 - G.I. HEMORRHAGE W MCC\"\n",
    "\"312 - SYNCOPE & COLLAPSE\"\n",
    "\"308 - CARDIAC ARRHYTHMIA & CONDUCTION DISORDERS W MCC\"\n",
    "\"309 - CARDIAC ARRHYTHMIA & CONDUCTION DISORDERS W CC\"\n",
    "\"177 - RESPIRATORY INFECTIONS & INFLAMMATIONS W MCC\"\n",
    "\"481 - HIP & FEMUR PROCEDURES EXCEPT MAJOR JOINT W CC\"\n",
    "\"247 - PERC CARDIOVASC PROC W DRUG-ELUTING STENT W/O MCC\"\n",
    "\"280 - \"\"ACUTE MYOCARDIAL INFARCTION, DISCHARGED ALIVE W MCC\"\"\"\n",
    "\"641 - \"\"MISC DISORDERS OF NUTRITION,METABOLISM,FLUIDS/ELECTROLYTES W/O MCC\"\"\"\n",
    "\"064 - INTRACRANIAL HEMORRHAGE OR CEREBRAL INFARCTION W MCC\"\n",
    "\"292 - HEART FAILURE & SHOCK W CC\"\n",
    "\"603 - CELLULITIS W/O MCC\"\n",
    "\"689 - KIDNEY & URINARY TRACT INFECTIONS W MCC\"\n",
    "\"065 - INTRACRANIAL HEMORRHAGE OR CEREBRAL INFARCTION W CC OR TPA IN 24 HRS\"\n",
    "\"853 - INFECTIOUS & PARASITIC DISEASES W O.R. PROCEDURE W MCC\"\n",
    "\"640 - MISC DISORDERS OF NUTRITION,METABOLISM,FLUIDS/ELECTROLYTES W MCC\"\n",
    "\"378 - G.I. HEMORRHAGE W CC\"\n",
    "\"682 - RENAL FAILURE W MCC\"\n",
    "\"194 - SIMPLE PNEUMONIA & PLEURISY W CC\"\n",
    "\"190 - CHRONIC OBSTRUCTIVE PULMONARY DISEASE W MCC\"\n",
    "\"392 - \"\"ESOPHAGITIS, GASTROENT & MISC DIGEST DISORDERS W/O MCC\"\"\"\n",
    "\"683 - RENAL FAILURE W CC\"\n",
    "\"189 - PULMONARY EDEMA & RESPIRATORY FAILURE\"\n",
    "\"690 - KIDNEY & URINARY TRACT INFECTIONS W/O MCC\"\n",
    "\"872 - SEPTICEMIA OR SEVERE SEPSIS W/O MV >96 HOURS W/O MCC\"\n",
    "\"193 - SIMPLE PNEUMONIA & PLEURISY W MCC\"\n",
    "\"291 - HEART FAILURE & SHOCK W MCC\"\n",
    "\"470 - MAJOR HIP AND KNEE JOINT REPLACEMENT OR REATTACHMENT OF LOWER EXTREM\"\n",
    "\"871 - SEPTICEMIA OR SEVERE SEPSIS W/O MV >96 HOURS W MCC\"\n",
    ")"
   ]
  },
  {
   "cell_type": "code",
   "execution_count": 5,
   "metadata": {},
   "outputs": [
    {
     "name": "stdout",
     "output_type": "stream",
     "text": [
      "483191287460698208377312308309177481247280641064292603689065853640378682194190392683189690872193291470871\n"
     ]
    }
   ],
   "source": [
    "d = drg_list\n",
    "\n",
    "def trim(d):\n",
    "    return re.sub(r'[\\s\\/<]+[=<>\\\\\\/]?[\\d+]+[\\+]?','',d)\n",
    "\n",
    "x = (trim(d))\n",
    "\n",
    "regex = re.compile(r'\\D')\n",
    "new_list1 = regex.sub('',x)\n",
    "print(new_list1)"
   ]
  },
  {
   "cell_type": "code",
   "execution_count": 6,
   "metadata": {},
   "outputs": [
    {
     "data": {
      "text/plain": [
       "'483|191|287|460|698|208|377|312|308|309|177|481|247|280|641|064|292|603|689|065|853|640|378|682|194|190|392|683|189|690|872|193|291|470|871'"
      ]
     },
     "execution_count": 6,
     "metadata": {},
     "output_type": "execute_result"
    }
   ],
   "source": [
    "line = new_list1\n",
    "n = 3\n",
    "new_list = [line[i:i+n] for i in range(0,len(line),n)]\n",
    "\n",
    "\n",
    "\n",
    "'|'.join(new_list)"
   ]
  }
 ],
 "metadata": {
  "kernelspec": {
   "display_name": "Python 3",
   "language": "python",
   "name": "python3"
  },
  "language_info": {
   "codemirror_mode": {
    "name": "ipython",
    "version": 3
   },
   "file_extension": ".py",
   "mimetype": "text/x-python",
   "name": "python",
   "nbconvert_exporter": "python",
   "pygments_lexer": "ipython3",
   "version": "3.8.5"
  }
 },
 "nbformat": 4,
 "nbformat_minor": 4
}
